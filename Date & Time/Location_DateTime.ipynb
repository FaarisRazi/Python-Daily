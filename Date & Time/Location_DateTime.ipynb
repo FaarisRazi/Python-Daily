{
 "cells": [
  {
   "cell_type": "markdown",
   "metadata": {},
   "source": [
    "# Date-times of Locations\n",
    "We will find date-times for different locations using timezones from our dataset below."
   ]
  },
  {
   "cell_type": "code",
   "execution_count": 1,
   "metadata": {},
   "outputs": [
    {
     "data": {
      "text/html": [
       "<div>\n",
       "<style scoped>\n",
       "    .dataframe tbody tr th:only-of-type {\n",
       "        vertical-align: middle;\n",
       "    }\n",
       "\n",
       "    .dataframe tbody tr th {\n",
       "        vertical-align: top;\n",
       "    }\n",
       "\n",
       "    .dataframe thead th {\n",
       "        text-align: right;\n",
       "    }\n",
       "</style>\n",
       "<table border=\"1\" class=\"dataframe\">\n",
       "  <thead>\n",
       "    <tr style=\"text-align: right;\">\n",
       "      <th></th>\n",
       "      <th>iso_a3</th>\n",
       "      <th>Latitude</th>\n",
       "      <th>Longitude</th>\n",
       "      <th>timezone</th>\n",
       "    </tr>\n",
       "  </thead>\n",
       "  <tbody>\n",
       "    <tr>\n",
       "      <th>Aruba</th>\n",
       "      <td>ABW</td>\n",
       "      <td>12.509085</td>\n",
       "      <td>-69.970503</td>\n",
       "      <td>America/Aruba</td>\n",
       "    </tr>\n",
       "    <tr>\n",
       "      <th>Afghanistan</th>\n",
       "      <td>AFG</td>\n",
       "      <td>33.831137</td>\n",
       "      <td>66.024712</td>\n",
       "      <td>Asia/Kabul</td>\n",
       "    </tr>\n",
       "    <tr>\n",
       "      <th>Angola</th>\n",
       "      <td>AGO</td>\n",
       "      <td>-12.293656</td>\n",
       "      <td>17.545335</td>\n",
       "      <td>Africa/Luanda</td>\n",
       "    </tr>\n",
       "    <tr>\n",
       "      <th>Anguilla</th>\n",
       "      <td>AIA</td>\n",
       "      <td>18.224603</td>\n",
       "      <td>-63.059623</td>\n",
       "      <td>America/Anguilla</td>\n",
       "    </tr>\n",
       "    <tr>\n",
       "      <th>Albania</th>\n",
       "      <td>ALB</td>\n",
       "      <td>41.134553</td>\n",
       "      <td>20.064206</td>\n",
       "      <td>Europe/Tirane</td>\n",
       "    </tr>\n",
       "  </tbody>\n",
       "</table>\n",
       "</div>"
      ],
      "text/plain": [
       "            iso_a3   Latitude  Longitude          timezone\n",
       "Aruba          ABW  12.509085 -69.970503     America/Aruba\n",
       "Afghanistan    AFG  33.831137  66.024712        Asia/Kabul\n",
       "Angola         AGO -12.293656  17.545335     Africa/Luanda\n",
       "Anguilla       AIA  18.224603 -63.059623  America/Anguilla\n",
       "Albania        ALB  41.134553  20.064206     Europe/Tirane"
      ]
     },
     "execution_count": 1,
     "metadata": {},
     "output_type": "execute_result"
    }
   ],
   "source": [
    "import pandas as pd\n",
    "import numpy as np\n",
    "import requests\n",
    "import io\n",
    "\n",
    "# Path to our dataset saved as a numpy-file\n",
    "file_url = 'https://github.com/FaarisRazi/Python-Daily/blob/main/Fun%20with%20Countries/country_coords_tz.npy'\n",
    "\n",
    "# To retrieve np-files via URL:\n",
    "response = requests.get(file_url+'?raw=true')\n",
    "response.raise_for_status()\n",
    "bytesIO_obj = io.BytesIO(response.content)\n",
    "\n",
    "# Loading our dataframe from the dictionary-contained np-file\n",
    "country_tzdf = np.load(bytesIO_obj, allow_pickle = True).item()['df']\n",
    "\n",
    "country_tzdf.head()"
   ]
  },
  {
   "cell_type": "markdown",
   "metadata": {},
   "source": [
    "### Convert a date-time by timezone"
   ]
  },
  {
   "cell_type": "code",
   "execution_count": 2,
   "metadata": {},
   "outputs": [
    {
     "name": "stdout",
     "output_type": "stream",
     "text": [
      "UTC [12:00 AM - 01/Dec/2021] to -> United States Minor Outlying Islands [02:00 PM - 01/Dec/2021]\n"
     ]
    }
   ],
   "source": [
    "from random import choice\n",
    "\n",
    "# Our choice of format when displaying date-times\n",
    "tformat = '%I:%M %p - %d/%b/%Y'\n",
    "\n",
    "# Random country's timezone selected\n",
    "country_name = choice(country_tzdf.index)\n",
    "country_tz = country_tzdf.loc[country_name].timezone\n",
    "\n",
    "# Using a string date-time (localized as UTC)\n",
    "some_datetime = '2021 12 1'\n",
    "main_time = pd.to_datetime(some_datetime, utc=True)\n",
    "str_mainTime = main_time.strftime(tformat)\n",
    "\n",
    "# Convert the above string date-time to a timezone's\n",
    "country_time = main_time.tz_convert(country_tz)\n",
    "str_countryTime = country_time.strftime(tformat)\n",
    "\n",
    "print(f\"UTC [{str_mainTime}] to -> {country_name} [{str_countryTime}]\")"
   ]
  },
  {
   "cell_type": "code",
   "execution_count": 3,
   "metadata": {},
   "outputs": [
    {
     "name": "stdout",
     "output_type": "stream",
     "text": [
      "The current date-time here in Dubai-UAE is [06:00 AM - 22/Jul/2022]\n"
     ]
    }
   ],
   "source": [
    "# My Location / UAE Timestamps\n",
    "now_dt = pd.Timestamp.now()\n",
    "now_dt_UTC = pd.Timestamp.utcnow()\n",
    "\n",
    "print(f\"The current date-time here in Dubai-UAE is [{now_dt.strftime(tformat)}]\")"
   ]
  },
  {
   "cell_type": "markdown",
   "metadata": {},
   "source": [
    "### Current date-time in a location\n",
    "A function to get the current date-time based on a country's timezone."
   ]
  },
  {
   "cell_type": "code",
   "execution_count": 4,
   "metadata": {},
   "outputs": [],
   "source": [
    "def country_datetime(country_name, tz='', df=country_tzdf, as_strf=False,\n",
    "                     my_dt=False, strf = '%I:%M %p - %d/%b/%Y'):\n",
    "    country_tz = tz\n",
    "    \n",
    "    if not tz:\n",
    "        if not isinstance(df, pd.DataFrame):\n",
    "            raise \"If no timezone provided, please provide dataframe containing of timezones.\"\n",
    "            \n",
    "        country_tz = df.loc[country_name].timezone    \n",
    "    \n",
    "    if my_dt:\n",
    "        now_dt = pd.Timestamp.now()\n",
    "        print('Date & Time in your location currently:', now_dt.strftime(strf))\n",
    "    \n",
    "    country_datetime = pd.Timestamp.utcnow().tz_convert(tz)\n",
    "    display_countryDT = country_datetime.strftime(strf)\n",
    "    \n",
    "    print(f'Date & Time in {country_name}:', display_countryDT)\n",
    "    \n",
    "    if as_strf:\n",
    "        country_datetime = display_countryDT\n",
    "        \n",
    "    return country_datetime"
   ]
  },
  {
   "cell_type": "code",
   "execution_count": 6,
   "metadata": {},
   "outputs": [
    {
     "name": "stdout",
     "output_type": "stream",
     "text": [
      "Date & Time in Canada: 08:02 PM - 21/Jul/2022\n"
     ]
    },
    {
     "data": {
      "text/plain": [
       "Timestamp('2022-07-21 20:02:29.385785-0600', tz='America/Yellowknife')"
      ]
     },
     "execution_count": 6,
     "metadata": {},
     "output_type": "execute_result"
    }
   ],
   "source": [
    "country_datetime('Canada', country_tzdf.loc['Canada'].timezone)"
   ]
  }
 ],
 "metadata": {
  "kernelspec": {
   "display_name": "Python 3",
   "language": "python",
   "name": "python3"
  },
  "language_info": {
   "codemirror_mode": {
    "name": "ipython",
    "version": 3
   },
   "file_extension": ".py",
   "mimetype": "text/x-python",
   "name": "python",
   "nbconvert_exporter": "python",
   "pygments_lexer": "ipython3",
   "version": "3.8.6"
  }
 },
 "nbformat": 4,
 "nbformat_minor": 4
}
