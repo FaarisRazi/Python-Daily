{
 "cells": [
  {
   "cell_type": "markdown",
   "metadata": {},
   "source": [
    "## Collecting geojson data of countries \n",
    "For a project on Solar-Analysis, I had to collect latitude-longitude points of a country, where these coordinates were used in API-calls for collecting Solar-data per location-point.\n",
    "\n",
    "* **Data-source:**  [datahub.io/core/geo-countries/r/countries.geojson](https://datahub.io/core/geo-countries/r/countries.geojson \"geojson download-link\")\n",
    "\n",
    "* **Objective:**  Collect and compile geojson-data to a Pandas dataframe and save it via Numpy for later uses."
   ]
  },
  {
   "cell_type": "code",
   "execution_count": 1,
   "metadata": {},
   "outputs": [
    {
     "name": "stdout",
     "output_type": "stream",
     "text": [
      "Time taken for reading geojson-data with Pandas: 8.192 seconds.\n",
      "\n"
     ]
    }
   ],
   "source": [
    "from ttictoc import tic, toc\n",
    "import pandas as pd\n",
    "import numpy as np\n",
    "\n",
    "# Collect geojson-data from it's download-file URL, by reading it as json in Pandas\n",
    "# (this may take a few seconds, so we will track the time via tic and toc)\n",
    "tic() # ----- Timer Start\n",
    "\n",
    "geo_countries_url = 'https://www.datahub.io/core/geo-countries/r/countries.geojson'\n",
    "geojson_countries = pd.read_json(geo_countries_url)\n",
    "\n",
    "# ---- Timer End: toc()\n",
    "print(f'Time taken for reading geojson-data with Pandas: {round(toc(),3)} seconds.\\n')"
   ]
  },
  {
   "cell_type": "markdown",
   "metadata": {},
   "source": [
    "#### Compiling the collected geojson-data as a \"country-dictionary\"\n",
    "This dictionary is for conveniance of making our Pandas-Dataframe's structure, with table-columns for country's: \n",
    "1. *names*\n",
    "2. *ISO-codes*: ISO_A3 collected country-codes\n",
    "3. *Polygon types*: 'Polygon' or 'MultiPolygon'\n",
    "4. *Coordinates*: in Polygon/MultiPolygon form"
   ]
  },
  {
   "cell_type": "code",
   "execution_count": 2,
   "metadata": {},
   "outputs": [],
   "source": [
    "# Our data's geojson-format within features looks like (per country):\n",
    "# {'type': 'Feature', \n",
    "#  'properties': {'ADMIN': 'country-name', ISO_A3: 'country-code'}, \n",
    "#  'geometry': {'type': 'Polygon-type' (Poly/MultiPoly), 'coordinates': [[...]]}\n",
    "# }\n",
    "country_dict = {'country':[], 'iso_a3':[], 'polytype':[], 'coords':[]}\n",
    "\n",
    "for geo in geojson_countries.features:\n",
    "    \n",
    "    country_info, country_polygons = list(geo.values())[1:]\n",
    "    \n",
    "    country_dict['country'].append(country_info['ADMIN'])\n",
    "    country_dict['iso_a3'].append(country_info['ISO_A3'])\n",
    "    country_dict['polytype'].append(country_polygons['type'])\n",
    "    country_dict['coords'].append(country_polygons['coordinates'])"
   ]
  },
  {
   "cell_type": "markdown",
   "metadata": {},
   "source": [
    "#### Making and saving our Pandas Dataframe"
   ]
  },
  {
   "cell_type": "code",
   "execution_count": 3,
   "metadata": {},
   "outputs": [
    {
     "name": "stdout",
     "output_type": "stream",
     "text": [
      "Dataframe sneak-peak of geo-info of 255 countries:\n",
      "\n"
     ]
    },
    {
     "data": {
      "text/html": [
       "<div>\n",
       "<style scoped>\n",
       "    .dataframe tbody tr th:only-of-type {\n",
       "        vertical-align: middle;\n",
       "    }\n",
       "\n",
       "    .dataframe tbody tr th {\n",
       "        vertical-align: top;\n",
       "    }\n",
       "\n",
       "    .dataframe thead th {\n",
       "        text-align: right;\n",
       "    }\n",
       "</style>\n",
       "<table border=\"1\" class=\"dataframe\">\n",
       "  <thead>\n",
       "    <tr style=\"text-align: right;\">\n",
       "      <th></th>\n",
       "      <th>country</th>\n",
       "      <th>iso_a3</th>\n",
       "      <th>polytype</th>\n",
       "      <th>coords</th>\n",
       "    </tr>\n",
       "  </thead>\n",
       "  <tbody>\n",
       "    <tr>\n",
       "      <th>0</th>\n",
       "      <td>Aruba</td>\n",
       "      <td>ABW</td>\n",
       "      <td>Polygon</td>\n",
       "      <td>[[[-69.99693762899992, 12.577582098000036], [-...</td>\n",
       "    </tr>\n",
       "    <tr>\n",
       "      <th>1</th>\n",
       "      <td>Afghanistan</td>\n",
       "      <td>AFG</td>\n",
       "      <td>Polygon</td>\n",
       "      <td>[[[71.04980228700009, 38.40866445000009], [71....</td>\n",
       "    </tr>\n",
       "    <tr>\n",
       "      <th>2</th>\n",
       "      <td>Angola</td>\n",
       "      <td>AGO</td>\n",
       "      <td>MultiPolygon</td>\n",
       "      <td>[[[[11.73751945100014, -16.692577982999836], [...</td>\n",
       "    </tr>\n",
       "    <tr>\n",
       "      <th>3</th>\n",
       "      <td>Anguilla</td>\n",
       "      <td>AIA</td>\n",
       "      <td>MultiPolygon</td>\n",
       "      <td>[[[[-63.037668423999946, 18.21295807500003], [...</td>\n",
       "    </tr>\n",
       "    <tr>\n",
       "      <th>4</th>\n",
       "      <td>Albania</td>\n",
       "      <td>ALB</td>\n",
       "      <td>Polygon</td>\n",
       "      <td>[[[19.747765747000074, 42.57890085900007], [19...</td>\n",
       "    </tr>\n",
       "  </tbody>\n",
       "</table>\n",
       "</div>"
      ],
      "text/plain": [
       "       country iso_a3      polytype  \\\n",
       "0        Aruba    ABW       Polygon   \n",
       "1  Afghanistan    AFG       Polygon   \n",
       "2       Angola    AGO  MultiPolygon   \n",
       "3     Anguilla    AIA  MultiPolygon   \n",
       "4      Albania    ALB       Polygon   \n",
       "\n",
       "                                              coords  \n",
       "0  [[[-69.99693762899992, 12.577582098000036], [-...  \n",
       "1  [[[71.04980228700009, 38.40866445000009], [71....  \n",
       "2  [[[[11.73751945100014, -16.692577982999836], [...  \n",
       "3  [[[[-63.037668423999946, 18.21295807500003], [...  \n",
       "4  [[[19.747765747000074, 42.57890085900007], [19...  "
      ]
     },
     "execution_count": 3,
     "metadata": {},
     "output_type": "execute_result"
    }
   ],
   "source": [
    "# Compile our country-dictionary directly into a Pandas-Dataframe\n",
    "country_df = pd.DataFrame(country_dict)\n",
    "\n",
    "print(f'Dataframe sneak-peak of geo-info of {country_df.shape[0]} countries:\\n')\n",
    "country_df.head()"
   ]
  },
  {
   "cell_type": "code",
   "execution_count": 4,
   "metadata": {},
   "outputs": [
    {
     "name": "stdout",
     "output_type": "stream",
     "text": [
      "Dataframe saved via Numpy!\n"
     ]
    }
   ],
   "source": [
    "# Now to save our dataframe as numpy, for later uses:\n",
    "# (Note: We'll save a dataframe-in-dictionary object,\n",
    "# to preserve column-names when loading the file via Numpy)\n",
    "np.save('country_df', {'df':country_df}, allow_pickle = True)\n",
    "\n",
    "print('Dataframe saved via Numpy!')"
   ]
  }
 ],
 "metadata": {
  "kernelspec": {
   "display_name": "Python 3",
   "language": "python",
   "name": "python3"
  },
  "language_info": {
   "codemirror_mode": {
    "name": "ipython",
    "version": 3
   },
   "file_extension": ".py",
   "mimetype": "text/x-python",
   "name": "python",
   "nbconvert_exporter": "python",
   "pygments_lexer": "ipython3",
   "version": "3.8.6"
  }
 },
 "nbformat": 4,
 "nbformat_minor": 4
}
