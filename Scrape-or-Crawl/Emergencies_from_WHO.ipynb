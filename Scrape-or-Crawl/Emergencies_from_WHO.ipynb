{
 "cells": [
  {
   "cell_type": "markdown",
   "metadata": {},
   "source": [
    "# World Health Organization's Emergency Missions\n",
    "\n",
    "Lets scrape the focused **Health Emergencies list** of posts from WHO's site and compile them to an exportable Dataframe.\n",
    "<figure>\n",
    "<img src=\"images/Focused Emergencies - WHO.gif\" width=\"475\">\n",
    "    <figcaption><i>Source</i>: https://www.who.int/ </figcaption>\n",
    "</figure>"
   ]
  },
  {
   "cell_type": "code",
   "execution_count": 1,
   "metadata": {},
   "outputs": [],
   "source": [
    "from bs4 import BeautifulSoup # The nice libraries\n",
    "import urllib.request as ur, pandas as pd\n",
    "\n",
    "# Scrape-setup to read WHO's page content\n",
    "url = 'https://www.who.int/emergencies/situations'\n",
    "req = ur.Request( url, headers = {'User-Agent': 'Student'})\n",
    "page_content = ur.urlopen(req).read()\n",
    "soup = BeautifulSoup(page_content, \"html.parser\")\n",
    "\n",
    "# List of HTML content-cards showing Emergency-post per card\n",
    "emergency_cards = soup.find_all(\"div\", attrs={'class':'card-item__container'})"
   ]
  },
  {
   "cell_type": "code",
   "execution_count": 2,
   "metadata": {},
   "outputs": [
    {
     "name": "stdout",
     "output_type": "stream",
     "text": [
      "Collecting content-card details, example of the first 3:\n",
      "\n",
      "Title:\t\tDrought and food insecurity in the greater Horn of Africa\n",
      "Post-link:\thttps://www.who.int/emergencies/situations/drought-food-insecurity-greater-horn-of-africa\n",
      "Image:\t\thttps://cdn.who.int/media/images/default-source/emergencies/who_somalia_drought.jpg?sfvrsn=3f1d5d7f_2\n"
     ]
    },
    {
     "data": {
      "text/html": [
       "<img width=\"250px\" style=\"margin-left:120px\" alt=\"\" src=\"https://cdn.who.int/media/images/default-source/emergencies/who_somalia_drought.jpg?sfvrsn=3f1d5d7f_2\" title=\"WHO_Somalia_drought\">\n",
       "</img>"
      ],
      "text/plain": [
       "<IPython.core.display.HTML object>"
      ]
     },
     "metadata": {},
     "output_type": "display_data"
    },
    {
     "name": "stdout",
     "output_type": "stream",
     "text": [
      "\n",
      "\n",
      "Title:\t\tMonkeypox outbreak\n",
      "Post-link:\thttps://www.who.int/emergencies/situations/monkeypox-oubreak-2022\n",
      "Image:\t\thttps://cdn.who.int/media/images/default-source/health-topics/monkeypox/12763.jpg?sfvrsn=cd044fbd_22\n"
     ]
    },
    {
     "data": {
      "text/html": [
       "<img width=\"250px\" style=\"margin-left:120px\" alt=\"\" src=\"https://cdn.who.int/media/images/default-source/health-topics/monkeypox/12763.jpg?sfvrsn=cd044fbd_22\" title=\"Monkeypox virus illustration\">\n",
       "</img>"
      ],
      "text/plain": [
       "<IPython.core.display.HTML object>"
      ]
     },
     "metadata": {},
     "output_type": "display_data"
    },
    {
     "name": "stdout",
     "output_type": "stream",
     "text": [
      "\n",
      "\n",
      "Title:\t\tHumanitarian crisis in Sahel region of Africa\n",
      "Post-link:\thttps://www.who.int/emergencies/situations/humanitarian-crisis-in-sahel-region-of-africa\n",
      "Image:\t\thttps://cdn.who.int/media/images/default-source/emergencies/nigeria-polio-x1900.png?sfvrsn=d96be09e_2\n"
     ]
    },
    {
     "data": {
      "text/html": [
       "<img width=\"250px\" style=\"margin-left:120px\" alt=\"Nigeria polio vaccination\" src=\"https://cdn.who.int/media/images/default-source/emergencies/nigeria-polio-x1900.png?sfvrsn=d96be09e_2\" title=\"Nigeria polio vaccination\">\n",
       "</img>"
      ],
      "text/plain": [
       "<IPython.core.display.HTML object>"
      ]
     },
     "metadata": {},
     "output_type": "display_data"
    },
    {
     "name": "stdout",
     "output_type": "stream",
     "text": [
      "\n",
      "\n"
     ]
    }
   ],
   "source": [
    "from IPython.core.display import HTML\n",
    "\n",
    "# Collecting the details per content-card (title, image, link)\n",
    "print(\"Collecting content-card details, example of the first 3:\\n\")\n",
    "\n",
    "cards_details = []\n",
    "for i, card in enumerate(emergency_cards, 1):\n",
    "    atag = card.find('a', href=True)\n",
    "    \n",
    "    link = url + atag['href'].replace('/emergencies/situations','')\n",
    "        \n",
    "    image = atag.find('img')\n",
    "    title = card.find('h3').text\n",
    "    \n",
    "    cards_details.append([title, link, image['src']])\n",
    "    \n",
    "    if i < 4:\n",
    "        print(f\"Title:\\t\\t{title}\\n\"+\n",
    "              f\"Post-link:\\t{link}\\n\"+\n",
    "              f\"Image:\\t\\t{image['src']}\")\n",
    "        display(HTML(str(image).replace('<img',\n",
    "                                        '<img width=\"250px\" style=\"margin-left:120px\"')))\n",
    "        print('\\n')"
   ]
  },
  {
   "cell_type": "markdown",
   "metadata": {},
   "source": [
    "### Compile Post-results to a Dataframe"
   ]
  },
  {
   "cell_type": "code",
   "execution_count": 3,
   "metadata": {},
   "outputs": [
    {
     "data": {
      "text/html": [
       "<div>\n",
       "<style scoped>\n",
       "    .dataframe tbody tr th:only-of-type {\n",
       "        vertical-align: middle;\n",
       "    }\n",
       "\n",
       "    .dataframe tbody tr th {\n",
       "        vertical-align: top;\n",
       "    }\n",
       "\n",
       "    .dataframe thead th {\n",
       "        text-align: right;\n",
       "    }\n",
       "</style>\n",
       "<table border=\"1\" class=\"dataframe\">\n",
       "  <thead>\n",
       "    <tr style=\"text-align: right;\">\n",
       "      <th></th>\n",
       "      <th>title</th>\n",
       "      <th>post_link</th>\n",
       "      <th>image</th>\n",
       "    </tr>\n",
       "  </thead>\n",
       "  <tbody>\n",
       "    <tr>\n",
       "      <th>0</th>\n",
       "      <td>Drought and food insecurity in the greater Hor...</td>\n",
       "      <td>https://www.who.int/emergencies/situations/dro...</td>\n",
       "      <td>https://cdn.who.int/media/images/default-sourc...</td>\n",
       "    </tr>\n",
       "    <tr>\n",
       "      <th>1</th>\n",
       "      <td>Monkeypox outbreak</td>\n",
       "      <td>https://www.who.int/emergencies/situations/mon...</td>\n",
       "      <td>https://cdn.who.int/media/images/default-sourc...</td>\n",
       "    </tr>\n",
       "    <tr>\n",
       "      <th>2</th>\n",
       "      <td>Humanitarian crisis in Sahel region of Africa</td>\n",
       "      <td>https://www.who.int/emergencies/situations/hum...</td>\n",
       "      <td>https://cdn.who.int/media/images/default-sourc...</td>\n",
       "    </tr>\n",
       "    <tr>\n",
       "      <th>3</th>\n",
       "      <td>Ebola outbreak, Mbandaka Equateur Province, De...</td>\n",
       "      <td>https://www.who.int/emergencies/situations/ebo...</td>\n",
       "      <td>https://cdn.who.int/media/images/default-sourc...</td>\n",
       "    </tr>\n",
       "    <tr>\n",
       "      <th>4</th>\n",
       "      <td>Ukraine emergency</td>\n",
       "      <td>https://www.who.int/emergencies/situations/ukr...</td>\n",
       "      <td>https://cdn.who.int/media/images/default-sourc...</td>\n",
       "    </tr>\n",
       "    <tr>\n",
       "      <th>5</th>\n",
       "      <td>Afghanistan crisis</td>\n",
       "      <td>https://www.who.int/emergencies/situations/afg...</td>\n",
       "      <td>https://cdn.who.int/media/images/default-sourc...</td>\n",
       "    </tr>\n",
       "    <tr>\n",
       "      <th>6</th>\n",
       "      <td>Crisis in Northern Ethiopia</td>\n",
       "      <td>https://www.who.int/emergencies/situations/cri...</td>\n",
       "      <td>https://www.who.int/images/default-source/emer...</td>\n",
       "    </tr>\n",
       "    <tr>\n",
       "      <th>7</th>\n",
       "      <td>Ebola outbreak, Democratic Republic of the Con...</td>\n",
       "      <td>https://www.who.int/emergencies/situations/ebo...</td>\n",
       "      <td>https://www.who.int/images/default-source/hero...</td>\n",
       "    </tr>\n",
       "    <tr>\n",
       "      <th>8</th>\n",
       "      <td>Ebola outbreak outbreak, N'Zerekore, Guinea, 2021</td>\n",
       "      <td>https://www.who.int/emergencies/situations/ebo...</td>\n",
       "      <td>https://cdn.who.int/media/images/default-sourc...</td>\n",
       "    </tr>\n",
       "    <tr>\n",
       "      <th>9</th>\n",
       "      <td>Coronavirus disease (COVID-19) pandemic</td>\n",
       "      <td>https://www.who.int/emergencies/situations/eme...</td>\n",
       "      <td>https://cdn.who.int/media/images/default-sourc...</td>\n",
       "    </tr>\n",
       "    <tr>\n",
       "      <th>10</th>\n",
       "      <td>Ebola outbreak, Equateur Province, Democratic ...</td>\n",
       "      <td>https://www.who.int/emergencies/situations/ebo...</td>\n",
       "      <td>https://www.who.int/images/default-source/ebol...</td>\n",
       "    </tr>\n",
       "    <tr>\n",
       "      <th>11</th>\n",
       "      <td>Ebola outbreak, North Kivu, Ituri, Democratic ...</td>\n",
       "      <td>https://www.who.int/emergencies/situations/Ebo...</td>\n",
       "      <td>https://cdn.who.int/media/images/default-sourc...</td>\n",
       "    </tr>\n",
       "    <tr>\n",
       "      <th>12</th>\n",
       "      <td>Ebola outbreak, Democratic Republic of the Con...</td>\n",
       "      <td>https://www.who.int/emergencies/situations/Ebo...</td>\n",
       "      <td>https://cdn.who.int/media/images/default-sourc...</td>\n",
       "    </tr>\n",
       "    <tr>\n",
       "      <th>13</th>\n",
       "      <td>Yemen crisis</td>\n",
       "      <td>https://www.who.int/emergencies/situations/yem...</td>\n",
       "      <td>https://www.who.int/images/default-source/impo...</td>\n",
       "    </tr>\n",
       "    <tr>\n",
       "      <th>14</th>\n",
       "      <td>Syria crisis</td>\n",
       "      <td>https://www.who.int/emergencies/situations/syr...</td>\n",
       "      <td>https://cdn.who.int/media/images/default-sourc...</td>\n",
       "    </tr>\n",
       "    <tr>\n",
       "      <th>15</th>\n",
       "      <td>Somalia crisis</td>\n",
       "      <td>https://www.who.int/emergencies/situations/som...</td>\n",
       "      <td>https://www.who.int/images/default-source/depa...</td>\n",
       "    </tr>\n",
       "    <tr>\n",
       "      <th>16</th>\n",
       "      <td>Nigeria crisis</td>\n",
       "      <td>https://www.who.int/emergencies/situations/nig...</td>\n",
       "      <td>https://www.who.int/images/default-source/glob...</td>\n",
       "    </tr>\n",
       "    <tr>\n",
       "      <th>17</th>\n",
       "      <td>Ebola outbreak, Democratic Republic of the Con...</td>\n",
       "      <td>https://www.who.int/emergencies/situations/ebo...</td>\n",
       "      <td>https://cdn.who.int/media/images/default-sourc...</td>\n",
       "    </tr>\n",
       "    <tr>\n",
       "      <th>18</th>\n",
       "      <td>Zika virus disease outbreak, 2015-2016</td>\n",
       "      <td>https://www.who.int/emergencies/situations/zik...</td>\n",
       "      <td>https://www.who.int/images/default-source/heal...</td>\n",
       "    </tr>\n",
       "    <tr>\n",
       "      <th>19</th>\n",
       "      <td>Ebola outbreak: West Africa, 2014-2016</td>\n",
       "      <td>https://www.who.int/emergencies/situations/ebo...</td>\n",
       "      <td>https://cdn.who.int/media/images/default-sourc...</td>\n",
       "    </tr>\n",
       "    <tr>\n",
       "      <th>20</th>\n",
       "      <td>Iraq crisis</td>\n",
       "      <td>https://www.who.int/emergencies/situations/ira...</td>\n",
       "      <td>https://www.who.int/images/default-source/eios...</td>\n",
       "    </tr>\n",
       "    <tr>\n",
       "      <th>21</th>\n",
       "      <td>South Sudan crisis</td>\n",
       "      <td>https://www.who.int/emergencies/situations/sou...</td>\n",
       "      <td>https://cdn.who.int/media/images/default-sourc...</td>\n",
       "    </tr>\n",
       "    <tr>\n",
       "      <th>22</th>\n",
       "      <td>Avian influenza A (H7N9) virus outbreak</td>\n",
       "      <td>https://www.who.int/emergencies/situations/avi...</td>\n",
       "      <td>https://www.who.int/images/default-source/wpro...</td>\n",
       "    </tr>\n",
       "    <tr>\n",
       "      <th>23</th>\n",
       "      <td>Middle East respiratory syndrome (MERS-CoV) ou...</td>\n",
       "      <td>https://www.who.int/emergencies/situations/mid...</td>\n",
       "      <td>https://www.who.int/images/default-source/wpro...</td>\n",
       "    </tr>\n",
       "    <tr>\n",
       "      <th>24</th>\n",
       "      <td>Influenza A (H1N1) virus, 2009-2010 pandemic</td>\n",
       "      <td>https://www.who.int/emergencies/situations/inf...</td>\n",
       "      <td>https://www.who.int/images/default-source/depa...</td>\n",
       "    </tr>\n",
       "  </tbody>\n",
       "</table>\n",
       "</div>"
      ],
      "text/plain": [
       "                                                title  \\\n",
       "0   Drought and food insecurity in the greater Hor...   \n",
       "1                                  Monkeypox outbreak   \n",
       "2       Humanitarian crisis in Sahel region of Africa   \n",
       "3   Ebola outbreak, Mbandaka Equateur Province, De...   \n",
       "4                                   Ukraine emergency   \n",
       "5                                  Afghanistan crisis   \n",
       "6                         Crisis in Northern Ethiopia   \n",
       "7   Ebola outbreak, Democratic Republic of the Con...   \n",
       "8   Ebola outbreak outbreak, N'Zerekore, Guinea, 2021   \n",
       "9             Coronavirus disease (COVID-19) pandemic   \n",
       "10  Ebola outbreak, Equateur Province, Democratic ...   \n",
       "11  Ebola outbreak, North Kivu, Ituri, Democratic ...   \n",
       "12  Ebola outbreak, Democratic Republic of the Con...   \n",
       "13                                       Yemen crisis   \n",
       "14                                       Syria crisis   \n",
       "15                                     Somalia crisis   \n",
       "16                                     Nigeria crisis   \n",
       "17  Ebola outbreak, Democratic Republic of the Con...   \n",
       "18             Zika virus disease outbreak, 2015-2016   \n",
       "19             Ebola outbreak: West Africa, 2014-2016   \n",
       "20                                        Iraq crisis   \n",
       "21                                 South Sudan crisis   \n",
       "22            Avian influenza A (H7N9) virus outbreak   \n",
       "23  Middle East respiratory syndrome (MERS-CoV) ou...   \n",
       "24       Influenza A (H1N1) virus, 2009-2010 pandemic   \n",
       "\n",
       "                                            post_link  \\\n",
       "0   https://www.who.int/emergencies/situations/dro...   \n",
       "1   https://www.who.int/emergencies/situations/mon...   \n",
       "2   https://www.who.int/emergencies/situations/hum...   \n",
       "3   https://www.who.int/emergencies/situations/ebo...   \n",
       "4   https://www.who.int/emergencies/situations/ukr...   \n",
       "5   https://www.who.int/emergencies/situations/afg...   \n",
       "6   https://www.who.int/emergencies/situations/cri...   \n",
       "7   https://www.who.int/emergencies/situations/ebo...   \n",
       "8   https://www.who.int/emergencies/situations/ebo...   \n",
       "9   https://www.who.int/emergencies/situations/eme...   \n",
       "10  https://www.who.int/emergencies/situations/ebo...   \n",
       "11  https://www.who.int/emergencies/situations/Ebo...   \n",
       "12  https://www.who.int/emergencies/situations/Ebo...   \n",
       "13  https://www.who.int/emergencies/situations/yem...   \n",
       "14  https://www.who.int/emergencies/situations/syr...   \n",
       "15  https://www.who.int/emergencies/situations/som...   \n",
       "16  https://www.who.int/emergencies/situations/nig...   \n",
       "17  https://www.who.int/emergencies/situations/ebo...   \n",
       "18  https://www.who.int/emergencies/situations/zik...   \n",
       "19  https://www.who.int/emergencies/situations/ebo...   \n",
       "20  https://www.who.int/emergencies/situations/ira...   \n",
       "21  https://www.who.int/emergencies/situations/sou...   \n",
       "22  https://www.who.int/emergencies/situations/avi...   \n",
       "23  https://www.who.int/emergencies/situations/mid...   \n",
       "24  https://www.who.int/emergencies/situations/inf...   \n",
       "\n",
       "                                                image  \n",
       "0   https://cdn.who.int/media/images/default-sourc...  \n",
       "1   https://cdn.who.int/media/images/default-sourc...  \n",
       "2   https://cdn.who.int/media/images/default-sourc...  \n",
       "3   https://cdn.who.int/media/images/default-sourc...  \n",
       "4   https://cdn.who.int/media/images/default-sourc...  \n",
       "5   https://cdn.who.int/media/images/default-sourc...  \n",
       "6   https://www.who.int/images/default-source/emer...  \n",
       "7   https://www.who.int/images/default-source/hero...  \n",
       "8   https://cdn.who.int/media/images/default-sourc...  \n",
       "9   https://cdn.who.int/media/images/default-sourc...  \n",
       "10  https://www.who.int/images/default-source/ebol...  \n",
       "11  https://cdn.who.int/media/images/default-sourc...  \n",
       "12  https://cdn.who.int/media/images/default-sourc...  \n",
       "13  https://www.who.int/images/default-source/impo...  \n",
       "14  https://cdn.who.int/media/images/default-sourc...  \n",
       "15  https://www.who.int/images/default-source/depa...  \n",
       "16  https://www.who.int/images/default-source/glob...  \n",
       "17  https://cdn.who.int/media/images/default-sourc...  \n",
       "18  https://www.who.int/images/default-source/heal...  \n",
       "19  https://cdn.who.int/media/images/default-sourc...  \n",
       "20  https://www.who.int/images/default-source/eios...  \n",
       "21  https://cdn.who.int/media/images/default-sourc...  \n",
       "22  https://www.who.int/images/default-source/wpro...  \n",
       "23  https://www.who.int/images/default-source/wpro...  \n",
       "24  https://www.who.int/images/default-source/depa...  "
      ]
     },
     "execution_count": 3,
     "metadata": {},
     "output_type": "execute_result"
    }
   ],
   "source": [
    "emergency_WHO_df = pd.DataFrame(cards_details, columns=['title','post_link','image'])\n",
    "\n",
    "emergency_WHO_df"
   ]
  },
  {
   "cell_type": "markdown",
   "metadata": {},
   "source": [
    "### Exporting our DataFrame as an Excel-file\n",
    "This Dataframe can be exported as PDF, Word and other file-types as well. "
   ]
  },
  {
   "cell_type": "code",
   "execution_count": 4,
   "metadata": {},
   "outputs": [
    {
     "name": "stdout",
     "output_type": "stream",
     "text": [
      "DataFrame saved as an Excel File!\n"
     ]
    }
   ],
   "source": [
    "# Making the Excel file\n",
    "excel_df_data = pd.ExcelWriter('WHO_emergency-posts.xlsx')\n",
    "  \n",
    "# Importing the DataFrame to the excel file\n",
    "emergency_WHO_df.to_excel(excel_df_data)\n",
    "  \n",
    "excel_df_data.save() # Saving the excel file\n",
    "\n",
    "print('DataFrame saved as an Excel File!')"
   ]
  },
  {
   "cell_type": "markdown",
   "metadata": {},
   "source": [
    "Our Excel file looks like this:\n",
    "\n",
    "<img src=\"WHO_emergency_excel.png\" width=\"875\">"
   ]
  }
 ],
 "metadata": {
  "kernelspec": {
   "display_name": "Python 3",
   "language": "python",
   "name": "python3"
  },
  "language_info": {
   "codemirror_mode": {
    "name": "ipython",
    "version": 3
   },
   "file_extension": ".py",
   "mimetype": "text/x-python",
   "name": "python",
   "nbconvert_exporter": "python",
   "pygments_lexer": "ipython3",
   "version": "3.8.6"
  }
 },
 "nbformat": 4,
 "nbformat_minor": 4
}
